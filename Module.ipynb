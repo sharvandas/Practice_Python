{
 "cells": [
  {
   "cell_type": "code",
   "execution_count": 40,
   "id": "2307dc20",
   "metadata": {},
   "outputs": [
    {
     "data": {
      "text/plain": [
       "2.0"
      ]
     },
     "execution_count": 40,
     "metadata": {},
     "output_type": "execute_result"
    }
   ],
   "source": [
    "sqrt(4)"
   ]
  },
  {
   "cell_type": "code",
   "execution_count": 41,
   "id": "8d39fdf2",
   "metadata": {},
   "outputs": [],
   "source": [
    "import math"
   ]
  },
  {
   "cell_type": "code",
   "execution_count": 42,
   "id": "850bfeca",
   "metadata": {},
   "outputs": [
    {
     "data": {
      "text/plain": [
       "2.0"
      ]
     },
     "execution_count": 42,
     "metadata": {},
     "output_type": "execute_result"
    }
   ],
   "source": [
    "math.sqrt(4)"
   ]
  },
  {
   "cell_type": "code",
   "execution_count": 43,
   "id": "71a609ff",
   "metadata": {},
   "outputs": [
    {
     "data": {
      "text/plain": [
       "2.0"
      ]
     },
     "execution_count": 43,
     "metadata": {},
     "output_type": "execute_result"
    }
   ],
   "source": [
    "sqrt(4)"
   ]
  },
  {
   "cell_type": "code",
   "execution_count": 44,
   "id": "4b27d384",
   "metadata": {},
   "outputs": [],
   "source": [
    "from math import sqrt"
   ]
  },
  {
   "cell_type": "code",
   "execution_count": 45,
   "id": "1797ce90",
   "metadata": {},
   "outputs": [
    {
     "data": {
      "text/plain": [
       "2.0"
      ]
     },
     "execution_count": 45,
     "metadata": {},
     "output_type": "execute_result"
    }
   ],
   "source": [
    "sqrt(4)"
   ]
  },
  {
   "cell_type": "code",
   "execution_count": 46,
   "id": "5942154a",
   "metadata": {},
   "outputs": [],
   "source": [
    "from math import pi"
   ]
  },
  {
   "cell_type": "code",
   "execution_count": 47,
   "id": "f8c92ff2",
   "metadata": {},
   "outputs": [
    {
     "data": {
      "text/plain": [
       "3.141592653589793"
      ]
     },
     "execution_count": 47,
     "metadata": {},
     "output_type": "execute_result"
    }
   ],
   "source": [
    "pi"
   ]
  },
  {
   "cell_type": "code",
   "execution_count": 48,
   "id": "06275a56",
   "metadata": {},
   "outputs": [],
   "source": [
    "from math import *"
   ]
  },
  {
   "cell_type": "code",
   "execution_count": 49,
   "id": "dca804a5",
   "metadata": {},
   "outputs": [
    {
     "data": {
      "text/plain": [
       "6.283185307179586"
      ]
     },
     "execution_count": 49,
     "metadata": {},
     "output_type": "execute_result"
    }
   ],
   "source": [
    "pi*sqrt(4)"
   ]
  },
  {
   "cell_type": "code",
   "execution_count": 50,
   "id": "8365c6cf",
   "metadata": {},
   "outputs": [],
   "source": [
    "# creating own module or own package / function"
   ]
  },
  {
   "cell_type": "code",
   "execution_count": 51,
   "id": "da133079",
   "metadata": {},
   "outputs": [
    {
     "data": {
      "text/plain": [
       "'C:\\\\Users\\\\91855'"
      ]
     },
     "execution_count": 51,
     "metadata": {},
     "output_type": "execute_result"
    }
   ],
   "source": [
    "pwd()"
   ]
  },
  {
   "cell_type": "code",
   "execution_count": 52,
   "id": "cbfee218",
   "metadata": {},
   "outputs": [],
   "source": [
    "# created a test1.py a python file in pwd location"
   ]
  },
  {
   "cell_type": "code",
   "execution_count": 53,
   "id": "c2a1a3f6",
   "metadata": {},
   "outputs": [],
   "source": [
    "import test1"
   ]
  },
  {
   "cell_type": "code",
   "execution_count": 54,
   "id": "19607398",
   "metadata": {},
   "outputs": [],
   "source": [
    "import test1"
   ]
  },
  {
   "cell_type": "code",
   "execution_count": 55,
   "id": "135cfc00",
   "metadata": {},
   "outputs": [],
   "source": [
    "# imported again but not able to get the data.(for the first time it shows)"
   ]
  },
  {
   "cell_type": "code",
   "execution_count": 56,
   "id": "0c18ab95",
   "metadata": {},
   "outputs": [],
   "source": [
    "import imp"
   ]
  },
  {
   "cell_type": "code",
   "execution_count": 57,
   "id": "cc1ee320",
   "metadata": {},
   "outputs": [
    {
     "data": {
      "text/plain": [
       "<function imp.reload(module)>"
      ]
     },
     "execution_count": 57,
     "metadata": {},
     "output_type": "execute_result"
    }
   ],
   "source": [
    "imp.reload"
   ]
  },
  {
   "cell_type": "code",
   "execution_count": 58,
   "id": "c0d01a4b",
   "metadata": {},
   "outputs": [
    {
     "name": "stdout",
     "output_type": "stream",
     "text": [
      "This is my first module\n"
     ]
    },
    {
     "data": {
      "text/plain": [
       "<module 'test1' from 'C:\\\\Users\\\\91855\\\\test1.py'>"
      ]
     },
     "execution_count": 58,
     "metadata": {},
     "output_type": "execute_result"
    }
   ],
   "source": [
    "imp.reload(test1)"
   ]
  },
  {
   "cell_type": "code",
   "execution_count": 59,
   "id": "f87357e1",
   "metadata": {},
   "outputs": [],
   "source": [
    "# Now it's working when reloaded"
   ]
  },
  {
   "cell_type": "code",
   "execution_count": 60,
   "id": "e9b1a6a0",
   "metadata": {},
   "outputs": [],
   "source": [
    "# trying for the another file(addition.py)"
   ]
  },
  {
   "cell_type": "code",
   "execution_count": 61,
   "id": "aefb0f3f",
   "metadata": {},
   "outputs": [],
   "source": [
    "import addition"
   ]
  },
  {
   "cell_type": "code",
   "execution_count": 62,
   "id": "91758ab8",
   "metadata": {},
   "outputs": [
    {
     "data": {
      "text/plain": [
       "10"
      ]
     },
     "execution_count": 62,
     "metadata": {},
     "output_type": "execute_result"
    }
   ],
   "source": [
    "addition.addition(5,5)"
   ]
  },
  {
   "cell_type": "code",
   "execution_count": 63,
   "id": "5956cc8d",
   "metadata": {},
   "outputs": [],
   "source": [
    "import test5"
   ]
  },
  {
   "cell_type": "code",
   "execution_count": 64,
   "id": "68c92c96",
   "metadata": {},
   "outputs": [
    {
     "data": {
      "text/plain": [
       "9"
      ]
     },
     "execution_count": 64,
     "metadata": {},
     "output_type": "execute_result"
    }
   ],
   "source": [
    "test5.add(4,5)"
   ]
  },
  {
   "cell_type": "code",
   "execution_count": 65,
   "id": "2cc35bb3",
   "metadata": {},
   "outputs": [
    {
     "data": {
      "text/plain": [
       "4.0"
      ]
     },
     "execution_count": 65,
     "metadata": {},
     "output_type": "execute_result"
    }
   ],
   "source": [
    "test5.sqt(16)"
   ]
  },
  {
   "cell_type": "code",
   "execution_count": 66,
   "id": "56e21529",
   "metadata": {},
   "outputs": [
    {
     "data": {
      "text/plain": [
       "8"
      ]
     },
     "execution_count": 66,
     "metadata": {},
     "output_type": "execute_result"
    }
   ],
   "source": [
    "test5.power(2,3)"
   ]
  },
  {
   "cell_type": "code",
   "execution_count": 67,
   "id": "222b966b",
   "metadata": {},
   "outputs": [
    {
     "data": {
      "text/plain": [
       "625"
      ]
     },
     "execution_count": 67,
     "metadata": {},
     "output_type": "execute_result"
    }
   ],
   "source": [
    "test5.mul(25,25)"
   ]
  },
  {
   "cell_type": "code",
   "execution_count": 68,
   "id": "45cab5cc",
   "metadata": {},
   "outputs": [],
   "source": [
    "import test6"
   ]
  },
  {
   "cell_type": "code",
   "execution_count": 69,
   "id": "ec2f2d74",
   "metadata": {},
   "outputs": [
    {
     "data": {
      "text/plain": [
       "'This is my class'"
      ]
     },
     "execution_count": 69,
     "metadata": {},
     "output_type": "execute_result"
    }
   ],
   "source": [
    "test6.get_msg()"
   ]
  },
  {
   "cell_type": "code",
   "execution_count": 70,
   "id": "09dd0f7c",
   "metadata": {},
   "outputs": [
    {
     "data": {
      "text/plain": [
       "['ml', 'dl', 'stats', 'cv']"
      ]
     },
     "execution_count": 70,
     "metadata": {},
     "output_type": "execute_result"
    }
   ],
   "source": [
    "test6.get_course()"
   ]
  },
  {
   "cell_type": "code",
   "execution_count": 71,
   "id": "9809cbef",
   "metadata": {},
   "outputs": [],
   "source": [
    "from test6 import get_course"
   ]
  },
  {
   "cell_type": "code",
   "execution_count": 72,
   "id": "334ca56c",
   "metadata": {},
   "outputs": [
    {
     "data": {
      "text/plain": [
       "['ml', 'dl', 'stats', 'cv']"
      ]
     },
     "execution_count": 72,
     "metadata": {},
     "output_type": "execute_result"
    }
   ],
   "source": [
    "get_course()"
   ]
  },
  {
   "cell_type": "code",
   "execution_count": null,
   "id": "d492ba1a",
   "metadata": {},
   "outputs": [],
   "source": []
  }
 ],
 "metadata": {
  "kernelspec": {
   "display_name": "Python 3",
   "language": "python",
   "name": "python3"
  },
  "language_info": {
   "codemirror_mode": {
    "name": "ipython",
    "version": 3
   },
   "file_extension": ".py",
   "mimetype": "text/x-python",
   "name": "python",
   "nbconvert_exporter": "python",
   "pygments_lexer": "ipython3",
   "version": "3.8.8"
  }
 },
 "nbformat": 4,
 "nbformat_minor": 5
}
